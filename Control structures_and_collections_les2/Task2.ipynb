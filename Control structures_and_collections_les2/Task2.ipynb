{
 "cells": [
  {
   "cell_type": "code",
   "execution_count": 5,
   "metadata": {},
   "outputs": [
    {
     "name": "stdout",
     "output_type": "stream",
     "text": [
      "th\n"
     ]
    }
   ],
   "source": [
    "#Задание 1\n",
    "\n",
    "word = 'Python'\n",
    "\n",
    "print(word[2:4])"
   ]
  },
  {
   "cell_type": "code",
   "execution_count": 33,
   "metadata": {
    "scrolled": false
   },
   "outputs": [
    {
     "name": "stdout",
     "output_type": "stream",
     "text": [
      "Идеальные пары\n",
      "[('Alex', 'Emma'), ('Arthur', 'Kate'), ('John', 'Kira'), ('Peter', 'Liza'), ('Richard', 'Trisha')]\n"
     ]
    }
   ],
   "source": [
    "#Задание 2\n",
    "\n",
    "boys = ['Peter', 'Alex', 'John', 'Arthur', 'Richard']\n",
    "girls = ['Kate', 'Liza', 'Kira', 'Emma', 'Trisha']\n",
    "couples = zip(sorted(boys), sorted(girls))\n",
    "\n",
    "print('Идеальные пары')\n",
    "print(list(couples))\n"
   ]
  },
  {
   "cell_type": "code",
   "execution_count": 34,
   "metadata": {},
   "outputs": [
    {
     "name": "stdout",
     "output_type": "stream",
     "text": [
      "Thailand\n",
      "74.94285714285714\n",
      "Germany\n",
      "56.685714285714276\n",
      "Russia\n",
      "38.68571428571429\n",
      "Poland\n",
      "53.34285714285714\n"
     ]
    }
   ],
   "source": [
    "#Задание 3\n",
    "\n",
    "countries_temperature = [\n",
    " ['Thailand', [75.2, 77, 78.8, 73.4, 68, 75.2, 77]],\n",
    " ['Germany', [57.2, 55.4, 59, 59, 53.6, 55.4, 57.2]],\n",
    " ['Russia', [35.6, 37.4, 39.2, 41, 42.8, 39.2, 35.6]],\n",
    " ['Poland', [50, 50, 53.6, 57.2, 55.4, 55.4, 51.8]],\n",
    "]\n",
    "\n",
    "for countries in countries_temperature:\n",
    "    print(countries[0])\n",
    "    print(sum(countries[1]) / len(countries[1])) \n",
    "#    print(sum(countries[1]) // len(countries[1]))"
   ]
  },
  {
   "cell_type": "code",
   "execution_count": 76,
   "metadata": {},
   "outputs": [
    {
     "name": "stdout",
     "output_type": "stream",
     "text": [
      "21.25\n"
     ]
    }
   ],
   "source": [
    "#Задание 4\n",
    "\n",
    "stream = [\n",
    "    '2018-01-01,user1,3',\n",
    "    '2018-01-07,user1,4',\n",
    "    '2018-03-29,user1,1',\n",
    "    '2018-04-04,user1,13',\n",
    "    '2018-01-05,user2,7',\n",
    "    '2018-06-14,user3,4',\n",
    "    '2018-07-02,user3,10',\n",
    "    '2018-03-21,user4,19',\n",
    "    '2018-03-22,user4,4',\n",
    "    '2018-04-22,user4,8',\n",
    "    '2018-05-03,user4,9',\n",
    "    '2018-05-11,user4,11',\n",
    "]\n",
    "\n",
    "user_list = []\n",
    "user_views_list = []\n",
    "x = 0\n",
    "\n",
    "for element in stream:\n",
    "    stream[x] = element.split(',')\n",
    "    stream[x][2] = int(stream[x][2])\n",
    "    x += 1\n",
    "    \n",
    "#print(stream)\n",
    "\n",
    "for value in stream:\n",
    "    if value[1] not in user_list:\n",
    "        user_list.append(value[1])\n",
    "\n",
    "#print(user_list)\n",
    "\n",
    "for next_value in stream:\n",
    "    if next_value[2] not in user_views_list:\n",
    "        user_views_list.append(next_value[2])\n",
    "        \n",
    "#print(user_views_list)\n",
    "\n",
    "full_views = sum(user_views_list) / len(user_list)\n",
    "print(full_views)\n",
    "\n",
    "#сложно"
   ]
  },
  {
   "cell_type": "code",
   "execution_count": 85,
   "metadata": {},
   "outputs": [
    {
     "name": "stdout",
     "output_type": "stream",
     "text": [
      "Введите название компании: market\n",
      "Введите день: 3\n",
      "1764\n"
     ]
    }
   ],
   "source": [
    "#Задание 5\n",
    "\n",
    "stats = [\n",
    "    ['2018-01-01', 'google', 25],\n",
    "    ['2018-01-01', 'yandex', 65],\n",
    "    ['2018-01-01', 'market', 89],\n",
    "    ['2018-01-02', 'google', 574],\n",
    "    ['2018-01-02', 'yandex', 249],\n",
    "    ['2018-01-02', 'market', 994],\n",
    "    ['2018-01-03', 'google', 1843],\n",
    "    ['2018-01-03', 'yandex', 1327],\n",
    "    ['2018-01-03', 'market', 1764],\n",
    "]\n",
    "company = input('Введите название компании: ')\n",
    "data = int(input('Введите день: '))\n",
    "\n",
    "if company == 'google' and data == 1:\n",
    "    print(stats[0][2])\n",
    "elif company == 'google' and data == 2:\n",
    "    print(stats[3][2])\n",
    "elif company == 'google' and data == 3:\n",
    "    print(stats[6][2])\n",
    "elif company == 'yandex' and data == 1:\n",
    "    print(stats[1][2])\n",
    "elif company == 'yandex' and data == 2:\n",
    "    print(stats[4][2])\n",
    "elif company == 'yandex' and data == 3:\n",
    "    print(stats[7][2])\n",
    "elif company == 'market' and data == 1:\n",
    "    print(stats[2][2])\n",
    "elif company == 'market' and data == 2:\n",
    "    print(stats[5][2])\n",
    "elif company == 'market' and data == 3:\n",
    "    print(stats[8][2])\n",
    "else:\n",
    "    print('Название компании может быть строго google yandex market')\n",
    "    print('День может быть только числом и принимать значения 1 2 3 ')"
   ]
  },
  {
   "cell_type": "code",
   "execution_count": 96,
   "metadata": {},
   "outputs": [
    {
     "name": "stdout",
     "output_type": "stream",
     "text": [
      "103 177 135 146\n"
     ]
    }
   ],
   "source": [
    "#Напишите код, который будет вычислять сумму элементов на диагонали. Т. е. 13+32+23+35.\n",
    "#Список может быть любой длины, но всегда является \"квадратным\" (количество элементов во вложенных списках равно их количеству).\n",
    "\n",
    "\n",
    "#Задание 6\n",
    "\n",
    "data = [\n",
    "    [13, 25, 23, 34],\n",
    "    [45, 32, 44, 47],\n",
    "    [12, 33, 23, 95],\n",
    "    [13, 53, 34, 35]\n",
    "]\n",
    "\n",
    "#добжно быть 4 цикла \n",
    "#0 0 + 1 1 + 2 2 + 3 3\n",
    "#1 1 + 2 2 + 3 3 + 0 0\n",
    "#2 2 + 3 3 + 0 0 + 1 1\n",
    "#3 3 + 0 0 + 1 1 + 2 2\n",
    "\n",
    "for summa in data:\n",
    "    summa = data[0][0] + data[1][1] + data[2][2] + data[3][3]\n",
    "    for next_sum in data:\n",
    "        next_sum = data[0][1] + data[1][2] + data[2][3] + data[3][0]\n",
    "        for next_sum2 in data:\n",
    "            next_sum2 = data[0][2] + data[1][3] + data[2][0] + data[3][1]\n",
    "            for next_sum3 in data:\n",
    "                next_sum3 = data[0][3] + data[1][0] + data[2][1] + data[3][2]\n",
    "print(summa, next_sum, next_sum2, next_sum3)"
   ]
  },
  {
   "cell_type": "code",
   "execution_count": null,
   "metadata": {},
   "outputs": [],
   "source": []
  }
 ],
 "metadata": {
  "kernelspec": {
   "display_name": "Python 3",
   "language": "python",
   "name": "python3"
  },
  "language_info": {
   "codemirror_mode": {
    "name": "ipython",
    "version": 3
   },
   "file_extension": ".py",
   "mimetype": "text/x-python",
   "name": "python",
   "nbconvert_exporter": "python",
   "pygments_lexer": "ipython3",
   "version": "3.7.4"
  }
 },
 "nbformat": 4,
 "nbformat_minor": 2
}
