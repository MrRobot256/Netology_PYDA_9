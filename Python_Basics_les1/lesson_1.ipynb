{
 "cells": [
  {
   "cell_type": "code",
   "execution_count": 1,
   "metadata": {},
   "outputs": [
    {
     "name": "stdout",
     "output_type": "stream",
     "text": [
      "True\n"
     ]
    }
   ],
   "source": [
    "#Задание 1\n",
    "\n",
    "long_phrase = len('Насколько проще было бы писать программу, если бы не заказчики')\n",
    "short_phrase = len('640Кб должно хватить для любых задач. Билл Гейтс (по легенде)')\n",
    "\n",
    "if long_phrase > short_phrase:\n",
    "    print('True')\n",
    "else:\n",
    "    print('False')"
   ]
  },
  {
   "cell_type": "code",
   "execution_count": 48,
   "metadata": {},
   "outputs": [
    {
     "name": "stdout",
     "output_type": "stream",
     "text": [
      "Введите число в мегабайтах: 1\n",
      "Объем файла равен  1048576  байт.\n"
     ]
    }
   ],
   "source": [
    "#Задание 2\n",
    "\n",
    "mbyte = int(input('Введите число в мегабайтах: '))\n",
    "byte = (2 ** 20) * mbyte\n",
    "\n",
    "print('Объем файла равен ', byte, ' байт.')"
   ]
  },
  {
   "cell_type": "code",
   "execution_count": 67,
   "metadata": {},
   "outputs": [
    {
     "name": "stdout",
     "output_type": "stream",
     "text": [
      "Введите месяц февраль\n",
      "Введите день 12\n",
      "Вывод: водолей\n"
     ]
    }
   ],
   "source": [
    "#Задание 3\n",
    "\n",
    "january = 'январь'\n",
    "february ='февраль'\n",
    "march = 'март'\n",
    "april = 'апрель'\n",
    "may = 'май'\n",
    "june = 'июнь'\n",
    "july = 'июль'\n",
    "august = 'август'\n",
    "september = 'сентябрь'\n",
    "october = 'октябрь'\n",
    "november = 'ноябрь'\n",
    "december = 'декабрь'\n",
    "first_part = list(range(1,22))\n",
    "second_part = list(range(23,31))\n",
    "\n",
    "\n",
    "month = input('Введите месяц ')\n",
    "day = int(input('Введите день '))\n",
    "\n",
    "if month == january and day == first_part:\n",
    "    print('козерог')\n",
    "elif month == january and day == second_part:\n",
    "    print('Вывод: водолей')\n",
    "elif month == february and first_part:\n",
    "    print('Вывод: водолей')\n",
    "elif month == february and second_part:\n",
    "    print('Вывод: рыбы')\n",
    "elif month == march and first_part:\n",
    "    print('Вывод: рыбы')\n",
    "elif month == march and second_part:\n",
    "    print('Вывод: овен')\n",
    "elif month == april and first_part:\n",
    "    print('Вывод: овен')\n",
    "elif month == april and second_part:\n",
    "    print('Вывод: телец')\n",
    "elif month == may and first_part:\n",
    "    print('Вывод: телец')\n",
    "elif month == may and second_part:\n",
    "    print('Вывод: близнецы')\n",
    "elif month == june and first_part:\n",
    "    print('Вывод: близнецы')\n",
    "elif month == june and second_part:\n",
    "    print('Вывод: рак')\n",
    "elif month == july and first_part:\n",
    "    print('Вывод: рак')\n",
    "elif month == july and second_part:\n",
    "    print('Вывод: лев')\n",
    "elif month == august and first_part:\n",
    "    print('Вывод: лев')\n",
    "elif month == august and second_part:\n",
    "    print('Вывод: дева')\n",
    "elif month == september and first_part:\n",
    "    print('Вывод: дева')\n",
    "elif month == october and second_part:\n",
    "    print('Вывод: весы')\n",
    "elif month == october and first_part:\n",
    "    print('Вывод: весы')\n",
    "elif month == november  and second_part:\n",
    "    print('Вывод: стрелец')\n",
    "elif month == november  and first_part:\n",
    "    print('Вывод: стрелец')\n",
    "elif month == december  and second_part:\n",
    "    print('Вывод: козерог')\n",
    "else:\n",
    "    print('Ошибка!')\n",
    "    "
   ]
  },
  {
   "cell_type": "code",
   "execution_count": 82,
   "metadata": {},
   "outputs": [
    {
     "name": "stdout",
     "output_type": "stream",
     "text": [
      "Введите Вашу заработную плату: 180000\n",
      "Введите сколько процентов от ЗП уходит на ипотеку: 35\n",
      "Введите сколько процентов от ЗП уходит \"на жизнь\": 30\n",
      "Введите сколько раз приходит премия за год: 2\n",
      "Вывод: на ипотеку было потрачено  756000.0 , было накоплено  180000.0 . На пенсию получилось накопить:  756000.0\n"
     ]
    }
   ],
   "source": [
    "#Задание 4\n",
    "\n",
    "salary = int(input('Введите Вашу заработную плату: '))\n",
    "home_tax = int(input('Введите сколько процентов от ЗП уходит на ипотеку: '))\n",
    "free_money = int(input('Введите сколько процентов от ЗП уходит \"на жизнь\": '))\n",
    "grant_salary = int(input('Введите сколько раз приходит премия за год: '))\n",
    "\n",
    "grant_salary_cost = grant_salary * salary\n",
    "home_tax_cost = (salary * home_tax / 100) * 12\n",
    "free_money_total = (salary * free_money / 100) *12\n",
    "total_salary = salary * 12\n",
    "weekend = grant_salary_cost / 2\n",
    "retire = total_salary - home_tax_cost - free_money_total\n",
    "invest = grant_salary_cost / 2\n",
    "\n",
    "if retire <= 0:\n",
    "    print('Вывод: на ипотеку было потрачено ', home_tax_cost, ', было накоплено ', invest, '. На пенсию накопить не получилось :(')\n",
    "else:\n",
    "    print('Вывод: на ипотеку было потрачено ', home_tax_cost, ', было накоплено ', invest, '. На пенсию получилось накопить: ', retire)\n",
    "\n",
    "\n"
   ]
  },
  {
   "cell_type": "code",
   "execution_count": null,
   "metadata": {},
   "outputs": [],
   "source": []
  }
 ],
 "metadata": {
  "kernelspec": {
   "display_name": "Python 3",
   "language": "python",
   "name": "python3"
  },
  "language_info": {
   "codemirror_mode": {
    "name": "ipython",
    "version": 3
   },
   "file_extension": ".py",
   "mimetype": "text/x-python",
   "name": "python",
   "nbconvert_exporter": "python",
   "pygments_lexer": "ipython3",
   "version": "3.7.4"
  }
 },
 "nbformat": 4,
 "nbformat_minor": 2
}
